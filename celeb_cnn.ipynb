{
 "cells": [
  {
   "cell_type": "code",
   "execution_count": 16,
   "metadata": {},
   "outputs": [],
   "source": [
    "import tensorflow as tf\n",
    "from tensorflow.keras.saving import load_model\n",
    "import cv2\n",
    "from PIL import Image\n",
    "import numpy as np\n"
   ]
  },
  {
   "cell_type": "code",
   "execution_count": 17,
   "metadata": {},
   "outputs": [],
   "source": [
    "model = load_model(\"celeb-cnn-model.h5\")"
   ]
  },
  {
   "cell_type": "code",
   "execution_count": 18,
   "metadata": {},
   "outputs": [],
   "source": [
    "def make_prediction(img,model):\n",
    "    img=cv2.imread(img)\n",
    "    img=Image.fromarray(img)\n",
    "    img=img.resize((128,128))\n",
    "    img=np.array(img)\n",
    "    input_img = np.expand_dims(img, axis=0)\n",
    "    res = model.predict(input_img)\n",
    "    res = np.argmax(res,axis = 1)[0]\n",
    "    labels = {0:'Roger Federer', 1:'Virat Kohli', 2:'Lionel Messi', 3:'Maria Sharapova', 4:'Serena Williams'}\n",
    "    print(labels[res])"
   ]
  },
  {
   "cell_type": "code",
   "execution_count": 19,
   "metadata": {},
   "outputs": [
    {
     "name": "stdout",
     "output_type": "stream",
     "text": [
      "1/1 [==============================] - 0s 110ms/step\n",
      "Lionel Messi\n",
      "--------------------------------------\n",
      "\n",
      "1/1 [==============================] - 0s 29ms/step\n",
      "Roger Federer\n",
      "--------------------------------------\n",
      "\n",
      "1/1 [==============================] - 0s 18ms/step\n",
      "Maria Sharapova\n",
      "--------------------------------------\n",
      "\n",
      "1/1 [==============================] - 0s 18ms/step\n",
      "Serena Williams\n",
      "--------------------------------------\n",
      "\n",
      "1/1 [==============================] - 0s 19ms/step\n",
      "Virat Kohli\n",
      "--------------------------------------\n",
      "\n"
     ]
    }
   ],
   "source": [
    "make_prediction('cropped/lionel_messi/lionel_messi23.png',model)\n",
    "print(\"--------------------------------------\\n\")\n",
    "make_prediction('cropped/roger_federer/roger_federer4.png',model)\n",
    "print(\"--------------------------------------\\n\")\n",
    "make_prediction('cropped/maria_sharapova/maria_sharapova5.png',model)\n",
    "print(\"--------------------------------------\\n\")\n",
    "make_prediction('cropped/serena_williams/serena_williams17.png',model)\n",
    "print(\"--------------------------------------\\n\")\n",
    "make_prediction('cropped/virat_kohli/virat_kohli9.png',model)\n",
    "print(\"--------------------------------------\\n\")"
   ]
  }
 ],
 "metadata": {
  "kernelspec": {
   "display_name": "base",
   "language": "python",
   "name": "python3"
  },
  "language_info": {
   "codemirror_mode": {
    "name": "ipython",
    "version": 3
   },
   "file_extension": ".py",
   "mimetype": "text/x-python",
   "name": "python",
   "nbconvert_exporter": "python",
   "pygments_lexer": "ipython3",
   "version": "3.9.13"
  }
 },
 "nbformat": 4,
 "nbformat_minor": 2
}
